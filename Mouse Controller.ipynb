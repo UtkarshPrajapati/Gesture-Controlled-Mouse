{
 "cells": [
  {
   "cell_type": "code",
   "execution_count": 7,
   "id": "21ed589e",
   "metadata": {},
   "outputs": [],
   "source": [
    "try:\n",
    "    import mediapipe\n",
    "    import cv2\n",
    "    import pyautogui\n",
    "    import mouse\n",
    "    import math\n",
    "    import traceback\n",
    "    capture = cv2.VideoCapture(0)\n",
    "    fw = capture.get(cv2.CAP_PROP_FRAME_WIDTH)\n",
    "    fh = capture.get(cv2.CAP_PROP_FRAME_HEIGHT)\n",
    "    def show(i):\n",
    "        coor = mediapipe.solutions.drawing_utils._normalized_to_pixel_coordinates(i.x,i.y,fw,fh)\n",
    "        cv2.circle(frame, coor, 5, (255, 0, 0), -1)\n",
    "        if coor is not None:\n",
    "            return list(coor)\n",
    "    sw, sh= pyautogui.size()\n",
    "    with mediapipe.solutions.hands.Hands(static_image_mode=False, min_detection_confidence=0.7, min_tracking_confidence=0.7, max_num_hands=1) as hands:\n",
    "        clicked=0\n",
    "        cin=(0,0)\n",
    "        while capture.isOpened():\n",
    "            ret, frame = capture.read()\n",
    "            if ret == False:\n",
    "                continue\n",
    "            frame = cv2.flip(frame, 1)\n",
    "            results = hands.process(cv2.cvtColor(frame, cv2.COLOR_BGR2RGB))\n",
    "            if results.multi_hand_landmarks != None:\n",
    "                index = results.multi_hand_landmarks[0].landmark[mediapipe.solutions.hands.HandLandmark.INDEX_FINGER_TIP]\n",
    "                thumb=results.multi_hand_landmarks[0].landmark[mediapipe.solutions.hands.HandLandmark.THUMB_TIP]\n",
    "                little=results.multi_hand_landmarks[0].landmark[mediapipe.solutions.hands.HandLandmark.PINKY_TIP]\n",
    "                cindex=show(index)\n",
    "                cthumb=show(thumb)\n",
    "                clittle=show(little)\n",
    "                if cthumb is not None and clittle is not None and cindex is not None:\n",
    "                    if math.dist(cindex,cin)>3:\n",
    "                        mouse.move(cindex[0]*(sw/fw),cindex[1]*(sh/fh))\n",
    "                        cin=cindex\n",
    "                    if math.dist(cthumb,clittle)<20 and clicked==0:\n",
    "                        mouse.click('left')\n",
    "                        clicked=1\n",
    "                    else:\n",
    "                        clicked=0\n",
    "                    cv2.putText(frame,str(round(math.dist(cthumb,clittle))),(20, 140),cv2.FONT_HERSHEY_SIMPLEX, 1, (0,0, 255), 5)\n",
    "                    cv2.putText(frame,str(cindex),(20, 70),cv2.FONT_HERSHEY_SIMPLEX, 1, (0,0, 255), 5)\n",
    "            cv2.imshow('Mouse Controller', frame)\n",
    "            if cv2.waitKey(1) == 27: #escape key\n",
    "                break\n",
    "    cv2.destroyAllWindows()\n",
    "    capture.release()\n",
    "\n",
    "except:\n",
    "    cv2.destroyAllWindows()\n",
    "    capture.release()\n",
    "    traceback.print_exc()"
   ]
  },
  {
   "cell_type": "code",
   "execution_count": 23,
   "id": "bc93f442",
   "metadata": {},
   "outputs": [],
   "source": [
    "mouse.click('left')"
   ]
  },
  {
   "cell_type": "code",
   "execution_count": null,
   "id": "10e72d51",
   "metadata": {},
   "outputs": [],
   "source": []
  }
 ],
 "metadata": {
  "kernelspec": {
   "display_name": "Python 3.9.12 ('base')",
   "language": "python",
   "name": "python3"
  },
  "language_info": {
   "codemirror_mode": {
    "name": "ipython",
    "version": 3
   },
   "file_extension": ".py",
   "mimetype": "text/x-python",
   "name": "python",
   "nbconvert_exporter": "python",
   "pygments_lexer": "ipython3",
   "version": "3.9.12"
  },
  "vscode": {
   "interpreter": {
    "hash": "f2b718e513c62edc6ede9b03ad3c84aa738011d553e5bf64ca2c77beb104330f"
   }
  }
 },
 "nbformat": 4,
 "nbformat_minor": 5
}
